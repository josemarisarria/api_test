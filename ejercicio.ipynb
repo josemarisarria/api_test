{
 "cells": [
  {
   "cell_type": "code",
   "execution_count": 1,
   "metadata": {},
   "outputs": [],
   "source": [
    "# importing librarires\n",
    "import numpy as np # linear algebra\n",
    "import pandas as pd # data processing, CSV file I/O (e.g. pd.read_csv)\n",
    "import matplotlib.pyplot as plt\n",
    "import seaborn as sns"
   ]
  },
  {
   "cell_type": "code",
   "execution_count": 4,
   "metadata": {},
   "outputs": [],
   "source": [
    "df =  pd.read_csv('./DS_TheBridgeBBK_SBIL2023/taller_data_fs-main/notebooks/housing.csv')"
   ]
  },
  {
   "cell_type": "code",
   "execution_count": 5,
   "metadata": {},
   "outputs": [
    {
     "data": {
      "text/html": [
       "<div>\n",
       "<style scoped>\n",
       "    .dataframe tbody tr th:only-of-type {\n",
       "        vertical-align: middle;\n",
       "    }\n",
       "\n",
       "    .dataframe tbody tr th {\n",
       "        vertical-align: top;\n",
       "    }\n",
       "\n",
       "    .dataframe thead th {\n",
       "        text-align: right;\n",
       "    }\n",
       "</style>\n",
       "<table border=\"1\" class=\"dataframe\">\n",
       "  <thead>\n",
       "    <tr style=\"text-align: right;\">\n",
       "      <th></th>\n",
       "      <th>id</th>\n",
       "      <th>title</th>\n",
       "      <th>price</th>\n",
       "      <th>surface</th>\n",
       "      <th>bedrooms</th>\n",
       "      <th>restrooms</th>\n",
       "      <th>features</th>\n",
       "      <th>description</th>\n",
       "      <th>rent</th>\n",
       "      <th>location_name</th>\n",
       "      <th>is_province</th>\n",
       "    </tr>\n",
       "  </thead>\n",
       "  <tbody>\n",
       "    <tr>\n",
       "      <th>0</th>\n",
       "      <td>8459</td>\n",
       "      <td>Piso de alquiler en Rúa Eugenio Carre Aldao, O...</td>\n",
       "      <td>630</td>\n",
       "      <td>85</td>\n",
       "      <td>3</td>\n",
       "      <td>2</td>\n",
       "      <td>3 habs.,2 baños,85 m²,2ª Planta</td>\n",
       "      <td>CURSO ESCOLAR. INTERNET INCLUIDO. Vivienda con...</td>\n",
       "      <td>1</td>\n",
       "      <td>A Coruña</td>\n",
       "      <td>1</td>\n",
       "    </tr>\n",
       "    <tr>\n",
       "      <th>1</th>\n",
       "      <td>8460</td>\n",
       "      <td>Piso de alquiler en Rúa Rodrigo a de Santiago,...</td>\n",
       "      <td>450</td>\n",
       "      <td>70</td>\n",
       "      <td>3</td>\n",
       "      <td>1</td>\n",
       "      <td>3 habs.,1 baño,70 m²,4ª Planta</td>\n",
       "      <td>Vivienda muy soleada de 3 habitaciones semiamu...</td>\n",
       "      <td>1</td>\n",
       "      <td>A Coruña</td>\n",
       "      <td>1</td>\n",
       "    </tr>\n",
       "    <tr>\n",
       "      <th>2</th>\n",
       "      <td>8461</td>\n",
       "      <td>Piso de alquiler en Avenida Novo Mesoiro, Mesoiro</td>\n",
       "      <td>600</td>\n",
       "      <td>90</td>\n",
       "      <td>3</td>\n",
       "      <td>2</td>\n",
       "      <td>3 habs.,2 baños,90 m²,Ascensor,Calefacción</td>\n",
       "      <td>Las tres habitaciones disponen de armario y ca...</td>\n",
       "      <td>1</td>\n",
       "      <td>A Coruña</td>\n",
       "      <td>1</td>\n",
       "    </tr>\n",
       "    <tr>\n",
       "      <th>3</th>\n",
       "      <td>8463</td>\n",
       "      <td>Piso de alquiler en Rúa Rianxo, Cuatro Caminos...</td>\n",
       "      <td>650</td>\n",
       "      <td>80</td>\n",
       "      <td>3</td>\n",
       "      <td>1</td>\n",
       "      <td>3 habs.,1 baño,80 m²</td>\n",
       "      <td>NaN</td>\n",
       "      <td>1</td>\n",
       "      <td>A Coruña</td>\n",
       "      <td>1</td>\n",
       "    </tr>\n",
       "    <tr>\n",
       "      <th>4</th>\n",
       "      <td>8464</td>\n",
       "      <td>Piso de alquiler en Rúa Rianxo, Cuatro Caminos...</td>\n",
       "      <td>650</td>\n",
       "      <td>80</td>\n",
       "      <td>3</td>\n",
       "      <td>1</td>\n",
       "      <td>3 habs.,1 baño,80 m²,Ascensor,Calefacción</td>\n",
       "      <td>NaN</td>\n",
       "      <td>1</td>\n",
       "      <td>A Coruña</td>\n",
       "      <td>1</td>\n",
       "    </tr>\n",
       "  </tbody>\n",
       "</table>\n",
       "</div>"
      ],
      "text/plain": [
       "     id                                              title  price  surface  \\\n",
       "0  8459  Piso de alquiler en Rúa Eugenio Carre Aldao, O...    630       85   \n",
       "1  8460  Piso de alquiler en Rúa Rodrigo a de Santiago,...    450       70   \n",
       "2  8461  Piso de alquiler en Avenida Novo Mesoiro, Mesoiro    600       90   \n",
       "3  8463  Piso de alquiler en Rúa Rianxo, Cuatro Caminos...    650       80   \n",
       "4  8464  Piso de alquiler en Rúa Rianxo, Cuatro Caminos...    650       80   \n",
       "\n",
       "   bedrooms  restrooms                                    features  \\\n",
       "0         3          2             3 habs.,2 baños,85 m²,2ª Planta   \n",
       "1         3          1              3 habs.,1 baño,70 m²,4ª Planta   \n",
       "2         3          2  3 habs.,2 baños,90 m²,Ascensor,Calefacción   \n",
       "3         3          1                        3 habs.,1 baño,80 m²   \n",
       "4         3          1   3 habs.,1 baño,80 m²,Ascensor,Calefacción   \n",
       "\n",
       "                                         description  rent location_name  \\\n",
       "0  CURSO ESCOLAR. INTERNET INCLUIDO. Vivienda con...     1      A Coruña   \n",
       "1  Vivienda muy soleada de 3 habitaciones semiamu...     1      A Coruña   \n",
       "2  Las tres habitaciones disponen de armario y ca...     1      A Coruña   \n",
       "3                                                NaN     1      A Coruña   \n",
       "4                                                NaN     1      A Coruña   \n",
       "\n",
       "   is_province  \n",
       "0            1  \n",
       "1            1  \n",
       "2            1  \n",
       "3            1  \n",
       "4            1  "
      ]
     },
     "execution_count": 5,
     "metadata": {},
     "output_type": "execute_result"
    }
   ],
   "source": [
    "df.head()"
   ]
  },
  {
   "cell_type": "code",
   "execution_count": 12,
   "metadata": {},
   "outputs": [
    {
     "data": {
      "text/plain": [
       "array(['A Coruña', 'Alacant', 'Albacete', 'Almería', 'Araba', 'Asturias',\n",
       "       'Ávila', 'Badajoz', 'Barcelona', 'Bizkaia', 'Burgos', 'Cáceres',\n",
       "       'Cádiz', 'Cantabria', 'Castelló', 'Ciudad Real', 'Córdoba',\n",
       "       'Cuenca', 'Gipuzkoa', 'Girona', 'Granada', 'Guadalajara', 'Huelva',\n",
       "       'Huesca', 'Illes Balears', 'Jaén', 'La Rioja', 'Las Palmas',\n",
       "       'León', 'Lleida', 'Lugo', 'Madrid', 'Málaga', 'Murcia', 'Navarra',\n",
       "       'Ourense', 'Palencia', 'Pontevedra', 'Salamanca',\n",
       "       'Santa Cruz de Tenerife', 'Segovia', 'Sevilla', 'Soria',\n",
       "       'Tarragona', 'Teruel', 'Toledo', 'Valencia', 'Valladolid',\n",
       "       'Zamora', 'Zaragoza'], dtype=object)"
      ]
     },
     "metadata": {},
     "output_type": "display_data"
    },
    {
     "data": {
      "text/plain": [
       "1"
      ]
     },
     "metadata": {},
     "output_type": "display_data"
    }
   ],
   "source": [
    "display(df['location_name'].unique())\n",
    "display(df['rent'].min())"
   ]
  },
  {
   "cell_type": "markdown",
   "metadata": {},
   "source": [
    "SEPARAMOS LOS DATOS PARA QUE TRABAJE EL MODELO PREDICTIVO"
   ]
  },
  {
   "cell_type": "code",
   "execution_count": 13,
   "metadata": {},
   "outputs": [],
   "source": [
    "df_precio=df['price']\n",
    "df_machine=df[['surface','bedrooms','restrooms','location_name']]"
   ]
  },
  {
   "cell_type": "code",
   "execution_count": 21,
   "metadata": {},
   "outputs": [
    {
     "data": {
      "text/plain": [
       "location_name\n",
       "Madrid                    17119\n",
       "Barcelona                 14592\n",
       "Valencia                   5865\n",
       "Granada                    5059\n",
       "Alacant                    4375\n",
       "Málaga                     4226\n",
       "Sevilla                    3154\n",
       "A Coruña                   2999\n",
       "Cádiz                      2670\n",
       "Córdoba                    2461\n",
       "Asturias                   2420\n",
       "Murcia                     2317\n",
       "Salamanca                  2284\n",
       "Cantabria                  2037\n",
       "Illes Balears              1982\n",
       "Las Palmas                 1835\n",
       "Bizkaia                    1805\n",
       "Pontevedra                 1763\n",
       "Almería                    1473\n",
       "Tarragona                  1397\n",
       "Santa Cruz de Tenerife     1305\n",
       "Zaragoza                   1305\n",
       "Castelló                   1255\n",
       "Badajoz                    1136\n",
       "Valladolid                 1130\n",
       "Girona                     1122\n",
       "Toledo                     1082\n",
       "Jaén                       1002\n",
       "Ourense                     905\n",
       "Burgos                      861\n",
       "León                        845\n",
       "Huelva                      809\n",
       "Lleida                      801\n",
       "Ciudad Real                 723\n",
       "Albacete                    632\n",
       "Cáceres                     608\n",
       "Gipuzkoa                    517\n",
       "La Rioja                    448\n",
       "Navarra                     438\n",
       "Lugo                        408\n",
       "Segovia                     339\n",
       "Palencia                    328\n",
       "Guadalajara                 320\n",
       "Ávila                       262\n",
       "Huesca                      232\n",
       "Zamora                      182\n",
       "Araba                       168\n",
       "Cuenca                      155\n",
       "Teruel                      125\n",
       "Soria                        89\n",
       "Name: count, dtype: int64"
      ]
     },
     "execution_count": 21,
     "metadata": {},
     "output_type": "execute_result"
    }
   ],
   "source": [
    "df_machine['location_name'].value_counts()"
   ]
  },
  {
   "cell_type": "code",
   "execution_count": 23,
   "metadata": {},
   "outputs": [
    {
     "data": {
      "text/plain": [
       "surface          0\n",
       "bedrooms         0\n",
       "restrooms        0\n",
       "location_name    0\n",
       "dtype: int64"
      ]
     },
     "execution_count": 23,
     "metadata": {},
     "output_type": "execute_result"
    }
   ],
   "source": [
    "df_machine.isna().sum()"
   ]
  },
  {
   "cell_type": "code",
   "execution_count": 24,
   "metadata": {},
   "outputs": [],
   "source": [
    "from sklearn.model_selection import train_test_split\n",
    "from sklearn.linear_model import LinearRegression\n",
    "from sklearn.metrics import mean_squared_error"
   ]
  },
  {
   "cell_type": "code",
   "execution_count": null,
   "metadata": {},
   "outputs": [],
   "source": [
    "\n",
    "# Definir las variables predictoras X y la variable objetivo y\n",
    "X = df[['surface', 'bedrooms', 'restrooms']]\n",
    "y = df['price']\n",
    "\n",
    "# Dividir los datos en conjuntos de entrenamiento y prueba\n",
    "X_train, X_test, y_train, y_test = train_test_split(X, y, test_size=0.2, random_state=42)\n",
    "\n",
    "# Crear una instancia del modelo\n",
    "model = LinearRegression()\n",
    "\n",
    "# Entrenar el modelo con los datos de entrenamiento\n",
    "model.fit(X_train, y_train)\n",
    "\n",
    "# Realizar predicciones con los datos de prueba\n",
    "y_pred = model.predict(X_test)\n",
    "\n",
    "# Calcular el error cuadrático medio (MSE) para evaluar el rendimiento del modelo\n",
    "mse = mean_squared_error(y_test, y_pred) \n",
    "\n"
   ]
  }
 ],
 "metadata": {
  "kernelspec": {
   "display_name": "Python 3",
   "language": "python",
   "name": "python3"
  },
  "language_info": {
   "codemirror_mode": {
    "name": "ipython",
    "version": 3
   },
   "file_extension": ".py",
   "mimetype": "text/x-python",
   "name": "python",
   "nbconvert_exporter": "python",
   "pygments_lexer": "ipython3",
   "version": "3.11.5"
  }
 },
 "nbformat": 4,
 "nbformat_minor": 2
}
